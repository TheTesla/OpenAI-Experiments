{
 "cells": [
  {
   "cell_type": "code",
   "execution_count": 44,
   "id": "bfab0d02-b14d-4a5a-9c8a-4eac75c0fee7",
   "metadata": {},
   "outputs": [
    {
     "data": {
      "image/svg+xml": [
       "<svg xmlns=\"http://www.w3.org/2000/svg\" width=\"800\" height=\"600\">\n",
       "  <!-- Hintergrund -->\n",
       "  <rect width=\"800\" height=\"600\" fill=\"#87CEEB\"/>\n",
       "  <rect y=\"400\" width=\"800\" height=\"200\" fill=\"#4682B4\"/>\n",
       "\n",
       "  <!-- Ente -->\n",
       "  <g transform=\"translate(200, 450)\">\n",
       "    <!-- Körper -->\n",
       "    <ellipse cx=\"0\" cy=\"0\" rx=\"50\" ry=\"30\" fill=\"#FFD700\"/>\n",
       "    <!-- Kopf -->\n",
       "    <circle cx=\"-50\" cy=\"-20\" r=\"20\" fill=\"#FFD700\"/>\n",
       "    <!-- Schnabel -->\n",
       "    <polygon points=\"-70,-20 -90,-10 -70,0\" fill=\"#FF8C00\"/>\n",
       "    <!-- Auge -->\n",
       "    <circle cx=\"-60\" cy=\"-25\" r=\"5\" fill=\"#000000\"/>\n",
       "    <!-- Flügel -->\n",
       "    <path d=\"M-30,0 Q-10,-20 10,0\" fill=\"#FFD700\"/>\n",
       "  </g>\n",
       "\n",
       "  <!-- Schwan -->\n",
       "  <g transform=\"translate(600, 460)\">\n",
       "    <!-- Körper -->\n",
       "    <ellipse cx=\"0\" cy=\"0\" rx=\"60\" ry=\"35\" fill=\"#FFFFFF\"/>\n",
       "    <!-- Kopf und Hals -->\n",
       "    <path d=\"M-15,-35 Q-30,-80 0,-120 Q30,-80 15,-35\" fill=\"#FFFFFF\"/>\n",
       "    <!-- Schnabel -->\n",
       "    <polygon points=\"0,-120 10,-115 0,-110\" fill=\"#FF4500\"/>\n",
       "    <!-- Auge -->\n",
       "    <circle cx=\"5\" cy=\"-105\" r=\"3\" fill=\"#000000\"/>\n",
       "    <!-- Flügel -->\n",
       "    <path d=\"M-30,0 Q-10,-30 20,0\" fill=\"#FFFFFF\"/>\n",
       "  </g>\n",
       "</svg>"
      ],
      "text/plain": [
       "<IPython.core.display.SVG object>"
      ]
     },
     "metadata": {},
     "output_type": "display_data"
    }
   ],
   "source": [
    "from IPython.display import SVG, display\n",
    "from openai import OpenAI\n",
    "client = OpenAI()\n",
    "response = client.chat.completions.create(\n",
    "#    model=\"gpt-3.5-turbo\",\n",
    "    model=\"gpt-4o\",\n",
    "    temperature=0.5,\n",
    "    seed=1337,\n",
    "    messages=[\n",
    "         {\"role\": \"system\", \"content\": \"You are a very creative vector graphics artist! Many details! Output valid SVG code only! Don't output codeblock formatation!\"},\n",
    "         {\"role\": \"user\", \"content\": \"Eine ente und ein Schwan schwimmen zusammen auf ein See.\"},\n",
    "       ]\n",
    "     )\n",
    "#print(response.choices[0].message.content)\n",
    "svg_string = response.choices[0].message.content\n",
    "display(SVG(svg_string))\n"
   ]
  },
  {
   "cell_type": "code",
   "execution_count": null,
   "id": "88f5039c-4968-4d12-b3e7-fa90a0c9b763",
   "metadata": {},
   "outputs": [],
   "source": []
  },
  {
   "cell_type": "code",
   "execution_count": null,
   "id": "70d49dd6-d7be-4eda-a807-de45dbff19c1",
   "metadata": {},
   "outputs": [],
   "source": []
  }
 ],
 "metadata": {
  "kernelspec": {
   "display_name": "Python 3 (ipykernel)",
   "language": "python",
   "name": "python3"
  },
  "language_info": {
   "codemirror_mode": {
    "name": "ipython",
    "version": 3
   },
   "file_extension": ".py",
   "mimetype": "text/x-python",
   "name": "python",
   "nbconvert_exporter": "python",
   "pygments_lexer": "ipython3",
   "version": "3.11.6"
  }
 },
 "nbformat": 4,
 "nbformat_minor": 5
}
