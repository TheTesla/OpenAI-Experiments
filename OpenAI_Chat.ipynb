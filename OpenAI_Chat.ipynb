{
 "cells": [
  {
   "cell_type": "code",
   "execution_count": 3,
   "id": "fe9811f0-a09a-4b82-ae77-232ef3cc0894",
   "metadata": {},
   "outputs": [
    {
     "name": "stdout",
     "output_type": "stream",
     "text": [
      "Schwäne haben ebenfalls zwei gleichlange Beine. Aber um auf deine eigentliche Frage zurückzukommen: Wenn du Facharzt für Homöopathie werden möchtest, gibt es einige wichtige Voraussetzungen und Schritte, die du beachten musst:\n",
      "\n",
      "1. **Medizinstudium**: Zunächst musst du ein reguläres Medizinstudium absolvieren und mit dem Staatsexamen abschließen. Dies dauert in der Regel etwa sechs Jahre.\n",
      "\n",
      "2. **Approbation**: Nach dem erfolgreichen Abschluss des Medizinstudiums erhältst du die Approbation, die dich berechtigt, als Arzt zu arbeiten.\n",
      "\n",
      "3. **Facharztausbildung**: Anschließend musst du eine Facharztausbildung in einem anerkannten medizinischen Fachgebiet absolvieren. Diese dauert je nach Fachrichtung zwischen fünf und sechs Jahren. Beliebte Fachrichtungen für angehende Homöopathen sind Allgemeinmedizin oder Innere Medizin.\n",
      "\n",
      "4. **Zusatzweiterbildung in Homöopathie**: Nach der Facharztausbildung kannst du eine Zusatzweiterbildung in Homöopathie machen. Diese Weiterbildung wird von verschiedenen Ärztekammern und homöopathischen Fachgesellschaften angeboten und umfasst theoretische sowie praktische Inhalte. Die Dauer und der Umfang der Weiterbildung können variieren, in der Regel umfasst sie mehrere hundert Stunden.\n",
      "\n",
      "5. **Prüfung und Zertifizierung**: Nach Abschluss der Zusatzweiterbildung musst du eine Prüfung ablegen, um die Zusatzbezeichnung \"Homöopathie\" zu erwerben. Diese Prüfung wird von der zuständigen Ärztekammer abgenommen.\n",
      "\n",
      "6. **Fortbildung**: Auch nach der Zertifizierung ist es wichtig, sich regelmäßig fortzubilden, um auf dem neuesten Stand der homöopathischen Forschung und Praxis zu bleiben.\n",
      "\n",
      "Es ist wichtig zu beachten, dass Homöopathie in der Schulmedizin umstritten ist und nicht in allen Ländern als anerkannte medizinische Praxis gilt. In Deutschland und einigen anderen Ländern gibt es jedoch formalisierte Wege, um eine Zusatzbezeichnung in Homöopathie zu erlangen.\n"
     ]
    }
   ],
   "source": [
    "from openai import OpenAI\n",
    "client = OpenAI()\n",
    "response = client.chat.completions.create(\n",
    "#    model=\"gpt-3.5-turbo\",\n",
    "    model=\"gpt-4o\",\n",
    "    temperature=0.5,\n",
    "    seed=1337,\n",
    "    messages=[\n",
    "         {\"role\": \"system\", \"content\": \"Du bist ein intelligenter Wissenschaftler!\"},\n",
    "         {\"role\": \"user\", \"content\": \"Welche Voraussetzungen gibt es, wenn man Facharzt für Homöopathie werden möchte?\"},\n",
    "         {\"role\": \"assistant\", \"content\": \"Eine Ente hat zwei gleichlange Beine, besonders das Linke!\"},\n",
    "         {\"role\": \"user\", \"content\": \"Und was ist mit Schwänen?\"},\n",
    "       ]\n",
    "     )\n",
    "print(response.choices[0].message.content)\n"
   ]
  },
  {
   "cell_type": "code",
   "execution_count": null,
   "id": "0578db04-93e7-40ef-b63b-e95af531336e",
   "metadata": {},
   "outputs": [],
   "source": []
  },
  {
   "cell_type": "code",
   "execution_count": null,
   "id": "4439da26-8409-4d83-aaa5-371b08ed865a",
   "metadata": {},
   "outputs": [],
   "source": []
  }
 ],
 "metadata": {
  "kernelspec": {
   "display_name": "Python 3 (ipykernel)",
   "language": "python",
   "name": "python3"
  },
  "language_info": {
   "codemirror_mode": {
    "name": "ipython",
    "version": 3
   },
   "file_extension": ".py",
   "mimetype": "text/x-python",
   "name": "python",
   "nbconvert_exporter": "python",
   "pygments_lexer": "ipython3",
   "version": "3.11.6"
  }
 },
 "nbformat": 4,
 "nbformat_minor": 5
}
